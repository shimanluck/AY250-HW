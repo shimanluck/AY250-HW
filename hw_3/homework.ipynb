{
 "cells": [
  {
   "cell_type": "markdown",
   "metadata": {},
   "source": [
    "# Interaction with the World Homework (#3)\n",
    "Python Computing for Data Science (c) J Bloom, UC Berkeley, 2016"
   ]
  },
  {
   "cell_type": "markdown",
   "metadata": {},
   "source": [
    "# 1) Monty: The Python Siri\n",
    "\n",
    "Let's make a Siri-like program with the following properties:\n",
    "   - record your voice command\n",
    "   - use a webservice to parse that sound file into text\n",
    "   - based on what the text, take three different types of actions:\n",
    "       - send an email to yourself\n",
    "       - do some math\n",
    "       - tell a joke\n",
    "\n",
    "So for example, if you say \"Monty: email me with subject hello and body goodbye\", it will email you with the appropriate subject and body. If you say \"Monty: tell me a joke\" then it will go to the web and find a joke and print it for you. If you say, \"Monty: calculate two times three\" it should response with printing the number 6.\n",
    "\n",
    "Hint: you can use speed-to-text apps like Houndify to return the text (but not do the actions). You'll need to sign up for a free API and then follow documentation instructions for using the service within Python. "
   ]
  },
  {
   "cell_type": "code",
   "execution_count": 176,
   "metadata": {
    "collapsed": true
   },
   "outputs": [],
   "source": [
    "import pyaudio\n",
    "import wave\n",
    "import houndify\n",
    "import speech_recognition as sr\n",
    "import sys\n",
    "from bs4 import BeautifulSoup\n",
    "try:\n",
    "    # For Python 3.0 and later\n",
    "    from urllib.request import urlopen\n",
    "except ImportError:\n",
    "    # Fall back to Python 2's urllib2\n",
    "    from urllib2 import urlopen\n",
    "    \n",
    "import smtplib\n",
    "from email.mime.text import MIMEText\n",
    "from email.message import EmailMessage\n",
    "from email.headerregistry import Address\n",
    "from email.utils import make_msgid"
   ]
  },
  {
   "cell_type": "code",
   "execution_count": 71,
   "metadata": {
    "collapsed": true
   },
   "outputs": [],
   "source": [
    "# listen and record command\n",
    "def record(WAVE_OUTPUT_FILENAME):\n",
    "    chunk = 1024\n",
    "    FORMAT = pyaudio.paInt16\n",
    "    CHANNELS = 1\n",
    "    RATE = 8000\n",
    "    RECORD_SECONDS = 7\n",
    "    p = pyaudio.PyAudio()\n",
    "    stream = p.open(format = FORMAT,\n",
    "        channels = CHANNELS,\n",
    "        rate = RATE,\n",
    "        input = True,\n",
    "        frames_per_buffer = chunk)\n",
    "    all = []\n",
    "    for i in range(0, int(RATE / chunk * RECORD_SECONDS)):\n",
    "        data = stream.read(chunk)\n",
    "        all.append(data)\n",
    "    print(\"* done recording\")\n",
    "    stream.close()\n",
    "    p.terminate()\n",
    "    \n",
    "    data = b\"\".join(all)\n",
    "    wf = wave.open(WAVE_OUTPUT_FILENAME, \"wb\")\n",
    "    wf.setnchannels(CHANNELS)\n",
    "    wf.setsampwidth(p.get_sample_size(FORMAT))\n",
    "    wf.setframerate(RATE)\n",
    "    wf.writeframes(data)\n",
    "    wf.close()"
   ]
  },
  {
   "cell_type": "code",
   "execution_count": 328,
   "metadata": {
    "collapsed": false
   },
   "outputs": [],
   "source": [
    "def speechtotext(audiofile):\n",
    "    \"\"\"\n",
    "    using HOUNDIFY to parse audiofile into text\n",
    "    \"\"\"\n",
    "    CLIENT_ID = \"rXaxIajhCsCO5JSgTvSEBg==\"\n",
    "    CLIENT_KEY = \"MyIuxruWQNgEjaWvWCvyYBbOQELBmZKCWDHpgIFrCgI5m3d-H1UVgbM5-RPyQ1czKsIJ1JGxaPzUmU5wnlvgSQ==\"\n",
    "\n",
    "    client = houndify.StreamingHoundClient(CLIENT_ID, CLIENT_KEY, \"test user\", sampleRate=8000)\n",
    "\n",
    "    !houndify/sample_wave.py $CLIENT_ID $CLIENT_KEY $audiofile > result.txt\n",
    "    \n",
    "    # parse and obtain the last line \n",
    "    with open(\"result.txt\") as f:\n",
    "        lst_line = None\n",
    "        for line in f:\n",
    "            if 'Partial transcript: ' in line:\n",
    "                lst_line = line\n",
    "        lst_line = lst_line.split(': ')[1]\n",
    "        lst_line = lst_line.strip('\\n')\n",
    "        print(lst_line, \"\\n\")\n",
    "    return(lst_line)"
   ]
  },
  {
   "cell_type": "code",
   "execution_count": 245,
   "metadata": {
    "collapsed": false
   },
   "outputs": [],
   "source": [
    "email = speechtotext(\"email.wav\")"
   ]
  },
  {
   "cell_type": "code",
   "execution_count": 165,
   "metadata": {
    "collapsed": false
   },
   "outputs": [],
   "source": [
    "def tell_joke(url = \"http://www.laughfactory.com/jokes/food-jokes\"):    \n",
    "    response = urlopen(url)\n",
    "    html = response.read()\n",
    "    response.close()\n",
    "    soup = BeautifulSoup(html,\"html.parser\")\n",
    "    forms = soup.findAll(\"div\", class_=\"joke-text\")\n",
    "    joke = forms[-1].get_text()\n",
    "    print((\" \").join(joke.split()))"
   ]
  },
  {
   "cell_type": "code",
   "execution_count": 174,
   "metadata": {
    "collapsed": false
   },
   "outputs": [
    {
     "name": "stdout",
     "output_type": "stream",
     "text": [
      "Q: Have you ever had Ethiopian food? A: Neither have they.\n"
     ]
    }
   ],
   "source": [
    "tell_joke()"
   ]
  },
  {
   "cell_type": "code",
   "execution_count": 355,
   "metadata": {
    "collapsed": false
   },
   "outputs": [],
   "source": [
    "def send_email(text):\n",
    "    text = text.split(\" \")\n",
    "    subject = \"subject\"\n",
    "    body = \"body\"\n",
    "    for i in range(len(text)):\n",
    "        if b[i] == 'subject':\n",
    "            start = i+1\n",
    "        if b[i] == 'body':\n",
    "            subject = (\" \").join(b[start:i-1])\n",
    "            body = (\" \").join(b[i+1:])\n",
    "\n",
    "    from_email = \"shimanluck626@gmail.com\"\n",
    "    to_email = \"shimanluck626@gmail.com\"\n",
    "    msg = EmailMessage()\n",
    "    msg['Subject'] = subject\n",
    "    msg['From'] = from_email\n",
    "    msg['To'] = to_email\n",
    "    msg.set_content(body)\n",
    "\n",
    "    mailServer = smtplib.SMTP(\"smtp.gmail.com\", 587)\n",
    "    mailServer.starttls()\n",
    "    mailServer.login(from_email, \"hahahahahaha\")\n",
    "    mailServer.sendmail(from_email, to_email, msg.as_string())\n",
    "    mailServer.close()"
   ]
  },
  {
   "cell_type": "code",
   "execution_count": 243,
   "metadata": {
    "collapsed": false
   },
   "outputs": [],
   "source": [
    "send_email(email)"
   ]
  },
  {
   "cell_type": "code",
   "execution_count": 271,
   "metadata": {
    "collapsed": true
   },
   "outputs": [],
   "source": [
    "# reference: https://github.com/akshaynagpal/w2n/blob/master/word2number/w2n.py\n",
    "# transfered strings into numerical number\n",
    "american_number_system = {\n",
    "    'zero': 0,\n",
    "    'one': 1,\n",
    "    'two': 2,\n",
    "    'three': 3,\n",
    "    'four': 4,\n",
    "    'five': 5,\n",
    "    'six': 6,\n",
    "    'seven': 7,\n",
    "    'eight': 8,\n",
    "    'nine': 9,\n",
    "    'ten': 10,\n",
    "    'eleven': 11,\n",
    "    'twelve': 12,\n",
    "    'thirteen': 13,\n",
    "    'fourteen': 14,\n",
    "    'fifteen': 15,\n",
    "    'sixteen': 16,\n",
    "    'seventeen': 17,\n",
    "    'eighteen': 18,\n",
    "    'nineteen': 19,\n",
    "    'twenty': 20,\n",
    "    'thirty': 30,\n",
    "    'forty': 40,\n",
    "    'fifty': 50,\n",
    "    'sixty': 60,\n",
    "    'seventy': 70,\n",
    "    'eighty': 80,\n",
    "    'ninety': 90,\n",
    "    'hundred': 100,\n",
    "    'thousand': 1000,\n",
    "    'million': 1000000,\n",
    "    'billion': 1000000000\n",
    "}\n",
    "\n",
    "def word_to_num(number_sentence):\n",
    "    number_sentence = number_sentence.lower()\n",
    "    split_words = number_sentence.split()  # split sentence into words\n",
    "    clean_numbers = []  # removing and, & etc.\n",
    "    for word in split_words:\n",
    "        if word in american_number_system:\n",
    "            clean_numbers.append(word)\n",
    "\n",
    "    # Error message if the user enters invalid input!        \n",
    "    if len(clean_numbers) == 0:\n",
    "        return \"Error: Please enter a valid number word (eg. two million twenty three thousand and forty nine) \"\n",
    "\n",
    "    billion_index = clean_numbers.index('billion') if 'billion' in clean_numbers else -1\n",
    "    million_index = clean_numbers.index('million') if 'million' in clean_numbers else -1\n",
    "    thousand_index = clean_numbers.index('thousand') if 'thousand' in clean_numbers else -1\n",
    "\n",
    "    total_sum = 0\n",
    "    if billion_index>-1 :\n",
    "        billion_multiplier = number_formation(clean_numbers[0:billion_index])\n",
    "        # print \"billion_multiplier\",str(billion_multiplier)\n",
    "        total_sum += billion_multiplier * 1000000000\n",
    "\n",
    "    if million_index>-1 :\n",
    "        if billion_index>-1:\n",
    "            million_multiplier = number_formation(clean_numbers[billion_index+1:million_index])\n",
    "        else:\n",
    "            million_multiplier = number_formation(clean_numbers[0:million_index])\n",
    "        total_sum += million_multiplier * 1000000\n",
    "        # print \"million_multiplier\",str(million_multiplier)\n",
    "\n",
    "    if thousand_index > -1:\n",
    "        if million_index > -1:\n",
    "            thousand_multiplier = number_formation(clean_numbers[million_index+1:thousand_index])\n",
    "        elif billion_index>-1 and million_index==-1:\n",
    "            thousand_multiplier = number_formation(clean_numbers[billion_index+1:thousand_index])\n",
    "        else:\n",
    "            thousand_multiplier = number_formation(clean_numbers[0:thousand_index])\n",
    "        total_sum += thousand_multiplier * 1000\n",
    "        # print \"thousand_multiplier\",str(thousand_multiplier)\n",
    "\n",
    "    if thousand_index>-1 and thousand_index != len(clean_numbers)-1:\n",
    "        hundreds = number_formation(clean_numbers[thousand_index+1:])\n",
    "    elif million_index>-1 and million_index != len(clean_numbers)-1:\n",
    "        hundreds = number_formation(clean_numbers[million_index+1:])\n",
    "    elif billion_index>-1 and billion_index != len(clean_numbers)-1:\n",
    "        hundreds = number_formation(clean_numbers[billion_index+1:])\n",
    "    elif thousand_index==-1 and million_index==-1 and billion_index==-1:\n",
    "        hundreds = number_formation(clean_numbers)\n",
    "    else:\n",
    "        hundreds = 0\n",
    "    total_sum += hundreds\n",
    "    # print \"hundreds\",str(hundreds)\n",
    "    return total_sum\n",
    "\n",
    "\n",
    "def number_formation(number_words):\n",
    "    numbers = []\n",
    "    for number_word in number_words:\n",
    "        numbers.append(american_number_system[number_word])\n",
    "    if len(numbers)==4:\n",
    "        return (numbers[0]*numbers[1])+numbers[2]+numbers[3]\n",
    "    elif len(numbers)==3:\n",
    "        return numbers[0]*numbers[1] + numbers[2]\n",
    "    elif len(numbers)==2:\n",
    "        if 100 in numbers:\n",
    "            return numbers[0]*numbers[1]\n",
    "        else:\n",
    "            return numbers[0]+numbers[1]\n",
    "    else:\n",
    "        return numbers[0]"
   ]
  },
  {
   "cell_type": "code",
   "execution_count": 354,
   "metadata": {
    "collapsed": false
   },
   "outputs": [],
   "source": [
    "def do_math(text):\n",
    "    text = text.split(\" \")\n",
    "    start = 0\n",
    "    nums = []\n",
    "    operations = {'plus':1, 'minus':2, 'times':3, 'devided':4}\n",
    "    flag = 0\n",
    "    for i in range(len(text)):\n",
    "        if flag == 0:\n",
    "            if text[i] == 'calculate':\n",
    "                start = i+1\n",
    "                flag = 1\n",
    "            continue\n",
    "        if text[i] not in american_number_system:\n",
    "            if text[i] != 'and':\n",
    "                nums.append(word_to_num((\" \").join(text[start:i])))\n",
    "                start = i+1\n",
    "                operation = text[i]\n",
    "\n",
    "    nums.append(word_to_num((\" \").join(text[start:])))\n",
    "    if operation == 'plus' or operation == 'add':\n",
    "        return (nums[0] + nums[1])\n",
    "    elif operation == 'minus':\n",
    "        return (nums[0] - nums[1])\n",
    "    elif operation == 'multiple' or operation == 'times':\n",
    "        return (nums[0] * nums[1])\n",
    "    else:\n",
    "        return (nums[0] / nums[1])"
   ]
  },
  {
   "cell_type": "code",
   "execution_count": 347,
   "metadata": {
    "collapsed": false
   },
   "outputs": [],
   "source": [
    "# main function\n",
    "def main():\n",
    "    print(\"What do you want to do?\")\n",
    "    record(\"result.wav\")\n",
    "    text = speechtotext(\"result.wav\")\n",
    "    \n",
    "    if 'email' in text:\n",
    "        print(\"Sending the email...\\n\")\n",
    "        send_email(text)\n",
    "    elif 'joke' in text:\n",
    "        print(\"You want a joke? Sure!\\n\")\n",
    "        tell_joke()\n",
    "    else:\n",
    "        print(\"Let's do math!\\n\")\n",
    "        result = do_math(text)\n",
    "        print(result)"
   ]
  },
  {
   "cell_type": "code",
   "execution_count": 356,
   "metadata": {
    "collapsed": false
   },
   "outputs": [
    {
     "name": "stdout",
     "output_type": "stream",
     "text": [
      "What do you want to do?\n",
      "* done recording\n",
      "tell me a joke \n",
      "\n",
      "You want a joke? Sure!\n",
      "\n",
      "Q: Have you ever had Ethiopian food? A: Neither have they.\n"
     ]
    }
   ],
   "source": [
    "main()"
   ]
  },
  {
   "cell_type": "markdown",
   "metadata": {},
   "source": [
    "# 2) Write a program that identifies musical notes from sound (AIFF) files. \n",
    "\n",
    "  - Run it on the supplied sound files (12) and report your program’s results. \n",
    "  - Use the labeled sounds (4) to make sure it works correctly. The provided sound files contain 1-3 simultaneous notes from different organs.\n",
    "  - Save copies of any example plots to illustrate how your program works.\n",
    "  \n",
    "  https://piazza.com/berkeley/fall2016/ay250/resources -> hw3_sound_files.zip"
   ]
  },
  {
   "cell_type": "markdown",
   "metadata": {},
   "source": [
    "Hints: You’ll want to decompose the sound into a frequency power spectrum. Use a Fast Fourier Transform. Be care about “unpacking” the string hexcode into python data structures. The sound files use 32 bit data. Play around with what happens when you convert the string data to other integer sizes, or signed vs unsigned integers. Also, beware of harmonics."
   ]
  },
  {
   "cell_type": "code",
   "execution_count": 168,
   "metadata": {
    "collapsed": false
   },
   "outputs": [],
   "source": [
    "# import all packages\n",
    "import aifc\n",
    "import numpy as np\n",
    "import scipy as sp\n",
    "from scipy.signal.spectral import lombscargle\n",
    "import pandas as pd\n",
    "import struct\n",
    "import matplotlib.pyplot as plt\n",
    "import peakutils\n",
    "%matplotlib inline"
   ]
  },
  {
   "cell_type": "code",
   "execution_count": 169,
   "metadata": {
    "collapsed": true
   },
   "outputs": [],
   "source": [
    "# get standard freq for each notes\n",
    "notes_freq = pd.read_csv('notes_freq.csv')\n",
    "notes_name = notes_freq.columns.values[1:]\n",
    "notes_freq = (np.asarray(notes_freq)[:,1:])"
   ]
  },
  {
   "cell_type": "code",
   "execution_count": 170,
   "metadata": {
    "collapsed": false
   },
   "outputs": [],
   "source": [
    "def find_notes(file, notes_freq, notes_name, use_bin = True):\n",
    "    audio = aifc.open(file, 'r')\n",
    "    channel_num = audio.getnchannels()\n",
    "    # 1 for mono, 2 for stereo\n",
    "    rate = audio.getframerate()\n",
    "    # the sampling rate (number of audio frames per second).\n",
    "    period = 1./rate\n",
    "    frame_num = audio.getnframes()\n",
    "    data = audio.readframes(frame_num)\n",
    "\n",
    "    # unpack the string hexcode into python data structures.\n",
    "    unpacked_data = struct.unpack(\"<%uh\" % (frame_num * channel_num), data)\n",
    "\n",
    "    #extract one channel\n",
    "    list_data = np.array(unpacked_data[::channel_num])\n",
    "\n",
    "\n",
    "    #using lombscargle to compare periods\n",
    "\n",
    "    timesteps = period * np.arange(len(list_data))\n",
    "    freq = np.logspace(1, np.log(8000)/np.log(10), 500)\n",
    "    freq = np.hstack((freq, notes_freq.ravel()))\n",
    "    freq.sort()\n",
    "    ang_freq = freq * 2 * np.pi\n",
    "    lombs = lombscargle(timesteps.astype('float64'), list_data.astype('float64'), ang_freq)\n",
    "    plt.plot(ang_freq/2/np.pi, lombs)\n",
    "    plt.xlabel('frequency [Hz]')\n",
    "    plt.ylabel('power')\n",
    "\n",
    "    \n",
    "    def find_nearest(array,value):\n",
    "        idx = np.unravel_index((np.abs(array-value)).argmin(), np.shape(array))\n",
    "        return idx\n",
    "    \n",
    "    if (use_bin):\n",
    "        binned = find_bin(notes_freq, freq, lombs)\n",
    "        indexes = peakutils.indexes(binned, thres=0.8, min_dist=0)\n",
    "        level = 1\n",
    "        for i in indexes:\n",
    "            idx = np.unravel_index(i, np.shape(notes_freq))\n",
    "            print (\"The\", level, \"th donimant note is: \", notes_name[idx[1]]+str(idx[0]))\n",
    "            level += 1\n",
    "    else:\n",
    "        indexes = peakutils.indexes(lombs, thres=0.8, min_dist=50)\n",
    "        level = 1\n",
    "        for i in indexes:\n",
    "            idx = find_nearest(notes_freq, i)\n",
    "            print (\"The\", level, \"th donimant note is: \", notes_name[idx[1]]+str(idx[0]))\n",
    "            level += 1\n",
    "    return (lombs)"
   ]
  },
  {
   "cell_type": "code",
   "execution_count": 171,
   "metadata": {
    "collapsed": false
   },
   "outputs": [],
   "source": [
    "def find_bin(notes_freq, freq, lombs):\n",
    "    \"\"\"\n",
    "    note_freq: standard notes freq to be compared\n",
    "    freq: freqs we used in test\n",
    "    lombs: power obtained from lombscargle\n",
    "    \"\"\"\n",
    "    C0 = 16.35/2\n",
    "    B8 = 7902\n",
    "    shape = np.shape(notes_freq)\n",
    "    bins = np.ravel(notes_freq)\n",
    "\n",
    "   \n",
    "    mids = np.hstack((0, np.exp((np.log(bins[:-1]) + np.log(bins[1:])) / 2), 16000))\n",
    "    lower = mids[:-1]\n",
    "    upper = mids[1:]\n",
    "\n",
    "    binned = np.zeros(lower.size) \n",
    "    for i, (l, u) in enumerate(zip(lower, upper)):\n",
    "        idx = (freq >= l) & (freq < u)\n",
    "        if sum(idx)>0:\n",
    "            binned[i] = np.mean(lombs[idx])\n",
    "        else:\n",
    "            binned[i] = 0\n",
    "    return(binned)"
   ]
  },
  {
   "cell_type": "code",
   "execution_count": 173,
   "metadata": {
    "collapsed": false
   },
   "outputs": [
    {
     "name": "stdout",
     "output_type": "stream",
     "text": [
      "The 1 th donimant note is:  D4\n",
      "The 2 th donimant note is:  G4\n",
      "The 1 th donimant note is:  F4\n",
      "The 2 th donimant note is:  C6\n",
      "The 1 th donimant note is:  A4\n",
      "The 1 th donimant note is:  C4\n",
      "The 1 th donimant note is:  D4\n",
      "The 1 th donimant note is:  G6\n",
      "The 1 th donimant note is:  D6\n",
      "The 2 th donimant note is:  A6\n",
      "The 1 th donimant note is:  C6\n",
      "The 1 th donimant note is:  G4\n",
      "The 1 th donimant note is:  G4\n",
      "The 1 th donimant note is:  E6\n",
      "The 1 th donimant note is:  C2\n"
     ]
    },
    {
     "data": {
      "image/png": "[encoded data removed]",
      "text/plain": [
       "<matplotlib.figure.Figure at 0x10807b518>"
      ]
     },
     "metadata": {},
     "output_type": "display_data"
    }
   ],
   "source": [
    "file1 = 'sound_files/1.aif'\n",
    "result1 = find_notes(file1, notes_freq, notes_name)\n",
    "file2 = 'sound_files/2.aif'\n",
    "result2 = find_notes(file2, notes_freq, notes_name)\n",
    "file3 = 'sound_files/3.aif'\n",
    "result3 = find_notes(file3, notes_freq, notes_name)\n",
    "file4 = 'sound_files/4.aif'\n",
    "result4 = find_notes(file4, notes_freq, notes_name)\n",
    "file5 = 'sound_files/5.aif'\n",
    "result5 = find_notes(file5, notes_freq, notes_name)\n",
    "file6 = 'sound_files/6.aif'\n",
    "result6 = find_notes(file6, notes_freq, notes_name)\n",
    "file7 = 'sound_files/7.aif'\n",
    "result7 = find_notes(file7, notes_freq, notes_name)\n",
    "file8 = 'sound_files/8.aif'\n",
    "result8 = find_notes(file8, notes_freq, notes_name)\n",
    "file9 = 'sound_files/9.aif'\n",
    "result9 = find_notes(file9, notes_freq, notes_name)\n",
    "file10 = 'sound_files/10.aif'\n",
    "result10 = find_notes(file10, notes_freq, notes_name)\n",
    "file11 = 'sound_files/11.aif'\n",
    "result11 = find_notes(file11, notes_freq, notes_name)\n",
    "file12 = 'sound_files/12.aif'\n",
    "result12 = find_notes(file12, notes_freq, notes_name)"
   ]
  },
  {
   "cell_type": "code",
   "execution_count": 221,
   "metadata": {
    "collapsed": false,
    "scrolled": true
   },
   "outputs": [
    {
     "name": "stdout",
     "output_type": "stream",
     "text": [
      "The 1 th donimant note is:  A4\n"
     ]
    },
    {
     "data": {
      "image/png": "[encoded data removed]",
      "text/plain": [
       "<matplotlib.figure.Figure at 0x1221fa0b8>"
      ]
     },
     "metadata": {},
     "output_type": "display_data"
    }
   ],
   "source": [
    "fileA4 = 'sound_files/A4_PopOrgan.aif'\n",
    "A4=find_notes(fileA4, notes_freq, notes_name)"
   ]
  },
  {
   "cell_type": "code",
   "execution_count": 222,
   "metadata": {
    "collapsed": false
   },
   "outputs": [
    {
     "name": "stdout",
     "output_type": "stream",
     "text": [
      "The 1 th donimant note is:  A4\n"
     ]
    },
    {
     "data": {
      "image/png": "[encoded data removed]",
      "text/plain": [
       "<matplotlib.figure.Figure at 0x123932668>"
      ]
     },
     "metadata": {},
     "output_type": "display_data"
    }
   ],
   "source": [
    "fileA4C4 = 'sound_files/C4A4_PopOrgan.aif'\n",
    "a4c4=find_notes(fileA4C4, notes_freq, notes_name)\n"
   ]
  },
  {
   "cell_type": "code",
   "execution_count": 223,
   "metadata": {
    "collapsed": false
   },
   "outputs": [
    {
     "name": "stdout",
     "output_type": "stream",
     "text": [
      "The 1 th donimant note is:  F4\n"
     ]
    },
    {
     "data": {
      "image/png": "[encoded data removed]",
      "text/plain": [
       "<matplotlib.figure.Figure at 0x122123da0>"
      ]
     },
     "metadata": {},
     "output_type": "display_data"
    }
   ],
   "source": [
    "fileF3 = 'sound_files/F3_PopOrgan.aif'\n",
    "f3=find_notes(fileF3, notes_freq, notes_name)"
   ]
  },
  {
   "cell_type": "code",
   "execution_count": 224,
   "metadata": {
    "collapsed": false
   },
   "outputs": [
    {
     "name": "stdout",
     "output_type": "stream",
     "text": [
      "The 1 th donimant note is:  F4\n",
      "The 2 th donimant note is:  F5\n",
      "The 3 th donimant note is:  C6\n"
     ]
    },
    {
     "data": {
      "image/png": "[encoded data removed]",
      "text/plain": [
       "<matplotlib.figure.Figure at 0x11fc32630>"
      ]
     },
     "metadata": {},
     "output_type": "display_data"
    }
   ],
   "source": [
    "fileF4 = 'sound_files/F4_CathedralOrgan.aif'\n",
    "f4=find_notes(fileF4, notes_freq, notes_name)"
   ]
  },
  {
   "cell_type": "code",
   "execution_count": null,
   "metadata": {
    "collapsed": true
   },
   "outputs": [],
   "source": []
  }
 ],
 "metadata": {
  "anaconda-cloud": {},
  "kernelspec": {
   "display_name": "Python [py3]",
   "language": "python",
   "name": "Python [py3]"
  },
  "language_info": {
   "codemirror_mode": {
    "name": "ipython",
    "version": 3
   },
   "file_extension": ".py",
   "mimetype": "text/x-python",
   "name": "python",
   "nbconvert_exporter": "python",
   "pygments_lexer": "ipython3",
   "version": "3.5.2"
  }
 },
 "nbformat": 4,
 "nbformat_minor": 0
}
