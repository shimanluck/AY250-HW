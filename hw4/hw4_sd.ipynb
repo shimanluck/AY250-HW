{
 "cells": [
  {
   "cell_type": "code",
   "execution_count": 20,
   "metadata": {
    "collapsed": true
   },
   "outputs": [],
   "source": [
    "# Shiman Ding, IEOR, 24104985\n",
    "# shiman@berkeley.edu\n",
    "# HW4: Parallelism\n",
    "# MacBook Pro with 2 GHz Intel Core i5"
   ]
  },
  {
   "cell_type": "code",
   "execution_count": 6,
   "metadata": {
    "collapsed": false
   },
   "outputs": [
    {
     "data": {
      "text/plain": [
       "'\\nPACKAGE INSTALLATION: \\ndask and dask.distributed:\\n\\nconda install dask distributed -c conda-forge\\n\\nprofiling:\\nbrew install graphviz  ## on a mac\\nsudo apt-get install graphviz ## on linux\\npip install snakeviz graphviz\\n\\njoblib:\\nconda install joblib\\nasync HTTP\\n\\npip install aiohttp\\nipyparallel:\\n\\nconda install ipyparallel\\nipcluster nbextension enable\\n\\n'"
      ]
     },
     "execution_count": 6,
     "metadata": {},
     "output_type": "execute_result"
    }
   ],
   "source": [
    "\"\"\"\n",
    "PACKAGE INSTALLATION: \n",
    "dask and dask.distributed:\n",
    "\n",
    "conda install dask distributed -c conda-forge\n",
    "\n",
    "profiling:\n",
    "brew install graphviz  ## on a mac\n",
    "sudo apt-get install graphviz ## on linux\n",
    "pip install snakeviz graphviz\n",
    "\n",
    "joblib:\n",
    "conda install joblib\n",
    "async HTTP\n",
    "\n",
    "pip install aiohttp\n",
    "ipyparallel:\n",
    "\n",
    "conda install ipyparallel\n",
    "ipcluster nbextension enable\n",
    "\n",
    "\"\"\""
   ]
  },
  {
   "cell_type": "markdown",
   "metadata": {
    "collapsed": true
   },
   "source": [
    "Q1. Use 3 methods to parallel computing and compare"
   ]
  },
  {
   "cell_type": "code",
   "execution_count": 7,
   "metadata": {
    "collapsed": true
   },
   "outputs": [],
   "source": [
    "from math import sqrt\n",
    "from random import uniform\n",
    "from time import time"
   ]
  },
  {
   "cell_type": "code",
   "execution_count": 8,
   "metadata": {
    "collapsed": false
   },
   "outputs": [],
   "source": [
    "# Monte Carlo Simulation to count the number of darts fall into a circle, then approximate PI\n",
    "# Method 1: no Parallelism\n",
    "def normal_simulation(number_of_darts):\n",
    "    number_in_circle = 0.0\n",
    "\n",
    "    start_time = time()\n",
    "    for n in range(number_of_darts):\n",
    "        x = uniform(0, 1)\n",
    "        y = uniform(0, 1)\n",
    "        if sqrt((x-0.5)**2 + (y-0.5)**2)<=0.5:\n",
    "            number_in_circle += 1\n",
    "\n",
    "    end_time = time()\n",
    "    execute_time = end_time - start_time\n",
    "    pi_approx1 = 4 * number_in_circle / number_of_darts\n",
    "\n",
    "    print(\"Method 1: normal calculation without parallelism\")\n",
    "    print('Pi Approximation: ', pi_approx1)\n",
    "    print('Execution time: ', execute_time)\n",
    "    print('Number of darts: ', number_of_darts)\n",
    "    print('Darts thrown per second: ', int(number_of_darts/execute_time))\n",
    "    return((execute_time, int(number_of_darts/execute_time)))"
   ]
  },
  {
   "cell_type": "code",
   "execution_count": 9,
   "metadata": {
    "collapsed": false
   },
   "outputs": [
    {
     "name": "stdout",
     "output_type": "stream",
     "text": [
      "Method 1: normal calculation without parallelism\n",
      "Pi Approximation:  3.14232\n",
      "Execution time:  0.2496030330657959\n",
      "Number of darts:  200000\n",
      "Darts thrown per second:  801272\n"
     ]
    },
    {
     "data": {
      "text/plain": [
       "(0.2496030330657959, 801272)"
      ]
     },
     "execution_count": 9,
     "metadata": {},
     "output_type": "execute_result"
    }
   ],
   "source": [
    "normal_simulation(200000)"
   ]
  },
  {
   "cell_type": "code",
   "execution_count": 10,
   "metadata": {
    "collapsed": true
   },
   "outputs": [],
   "source": [
    "# define function for parallelism\n",
    "def throw_dart(idx = 1):\n",
    "    x = uniform(0, 1)\n",
    "    y = uniform(0, 1)\n",
    "    dart_in = 0\n",
    "    if sqrt((x-0.5)**2 + (y-0.5)**2)<=0.5:\n",
    "        dart_in = 1\n",
    "    return(dart_in)\n"
   ]
  },
  {
   "cell_type": "code",
   "execution_count": 11,
   "metadata": {
    "collapsed": false
   },
   "outputs": [
    {
     "data": {
      "text/plain": [
       "1"
      ]
     },
     "execution_count": 11,
     "metadata": {},
     "output_type": "execute_result"
    }
   ],
   "source": [
    "throw_dart()"
   ]
  },
  {
   "cell_type": "code",
   "execution_count": 12,
   "metadata": {
    "collapsed": false
   },
   "outputs": [],
   "source": [
    "# Method 2: multiprocessing to parallel computing\n",
    "\n",
    "from multiprocessing import Pool \n",
    "\n",
    "def multiprocess(number_of_darts):\n",
    "    pool = Pool(processes=4)\n",
    "    start_time = time()\n",
    "    g=pool.map(throw_dart, range(number_of_darts))\n",
    "    end_time = time()\n",
    "    execute_time = end_time - start_time\n",
    "    pi_approx2 = 4 * sum(g) / number_of_darts\n",
    "    del pool\n",
    "\n",
    "    print(\"Method 2: parallel computing using MULTIPROCESSING.POOL\")\n",
    "    print('Pi Approximation: ', pi_approx2)\n",
    "    print('Execution time: ', execute_time)\n",
    "    print('Number of darts: ', number_of_darts)\n",
    "    print('Darts thrown per second: ', int(number_of_darts/execute_time))\n",
    "    return(execute_time, int(number_of_darts/execute_time))"
   ]
  },
  {
   "cell_type": "code",
   "execution_count": 13,
   "metadata": {
    "collapsed": false
   },
   "outputs": [
    {
     "name": "stdout",
     "output_type": "stream",
     "text": [
      "Method 2: parallel computing using MULTIPROCESSING.POOL\n",
      "Pi Approximation:  3.14104\n",
      "Execution time:  0.16172409057617188\n",
      "Number of darts:  200000\n",
      "Darts thrown per second:  1236674\n"
     ]
    },
    {
     "data": {
      "text/plain": [
       "(0.16172409057617188, 1236674)"
      ]
     },
     "execution_count": 13,
     "metadata": {},
     "output_type": "execute_result"
    }
   ],
   "source": [
    "multiprocess(200000)"
   ]
  },
  {
   "cell_type": "code",
   "execution_count": 14,
   "metadata": {
    "collapsed": false
   },
   "outputs": [],
   "source": [
    "# Method 3: dask to parallel computing\n",
    "import numpy as np\n",
    "import dask.array as da\n",
    "\n",
    "\n",
    "def dask_parallel(number_of_darts):\n",
    "    start_time = time()\n",
    "    x = da.random.uniform(0, 1, size=number_of_darts, chunks=100)   # Cut into 1000 sized chunks\n",
    "    y = da.random.uniform(0, 1, size=number_of_darts, chunks=100)   \n",
    "    dart_in = (x-0.5)**2 + (y-0.5)**2 < 0.5**2\n",
    "    end_time = time()\n",
    "    execute_time = end_time - start_time\n",
    "    pi_approx3 = 4 * sum(dart_in.compute()) / number_of_darts\n",
    "\n",
    "    print(\"Method 3: parallel computing using DASK\")\n",
    "    print('Pi Approximation: ', pi_approx3)\n",
    "    print('Execution time: ', execute_time)\n",
    "    print('Number of darts: ', number_of_darts)\n",
    "    print('Darts thrown per second: ', int(number_of_darts/execute_time))\n",
    "    return(execute_time, int(number_of_darts/execute_time))"
   ]
  },
  {
   "cell_type": "code",
   "execution_count": 15,
   "metadata": {
    "collapsed": false
   },
   "outputs": [
    {
     "name": "stdout",
     "output_type": "stream",
     "text": [
      "Method 3: parallel computing using DASK\n",
      "Pi Approximation:  3.14036\n",
      "Execution time:  0.23270010948181152\n",
      "Number of darts:  200000\n",
      "Darts thrown per second:  859475\n"
     ]
    },
    {
     "data": {
      "text/plain": [
       "(0.23270010948181152, 859475)"
      ]
     },
     "execution_count": 15,
     "metadata": {},
     "output_type": "execute_result"
    }
   ],
   "source": [
    "dask_parallel(200000)"
   ]
  },
  {
   "cell_type": "code",
   "execution_count": 16,
   "metadata": {
    "collapsed": false
   },
   "outputs": [
    {
     "data": {
      "text/plain": [
       "[1]"
      ]
     },
     "execution_count": 16,
     "metadata": {},
     "output_type": "execute_result"
    }
   ],
   "source": [
    "lista = list()\n",
    "lista.append(1)\n",
    "lista"
   ]
  },
  {
   "cell_type": "code",
   "execution_count": 17,
   "metadata": {
    "collapsed": false
   },
   "outputs": [
    {
     "name": "stdout",
     "output_type": "stream",
     "text": [
      "Method 1: normal calculation without parallelism\n",
      "Pi Approximation:  2.8\n",
      "Execution time:  3.0994415283203125e-05\n",
      "Number of darts:  10\n",
      "Darts thrown per second:  322638\n",
      "Method 2: parallel computing using MULTIPROCESSING.POOL\n",
      "Pi Approximation:  3.2\n",
      "Execution time:  0.0041158199310302734\n",
      "Number of darts:  10\n",
      "Darts thrown per second:  2429\n",
      "Method 3: parallel computing using DASK\n",
      "Pi Approximation:  3.2\n",
      "Execution time:  0.02239704132080078\n",
      "Number of darts:  10\n",
      "Darts thrown per second:  446\n",
      "Method 1: normal calculation without parallelism\n",
      "Pi Approximation:  3.42857142857\n",
      "Execution time:  0.00022101402282714844\n",
      "Number of darts:  56\n",
      "Darts thrown per second:  253377\n",
      "Method 2: parallel computing using MULTIPROCESSING.POOL\n",
      "Pi Approximation:  3.28571428571\n",
      "Execution time:  0.010866165161132812\n",
      "Number of darts:  56\n",
      "Darts thrown per second:  5153\n",
      "Method 3: parallel computing using DASK\n",
      "Pi Approximation:  3.21428571429\n",
      "Execution time:  0.01647496223449707\n",
      "Number of darts:  56\n",
      "Darts thrown per second:  3399\n",
      "Method 1: normal calculation without parallelism\n",
      "Pi Approximation:  3.15189873418\n",
      "Execution time:  0.0004050731658935547\n",
      "Number of darts:  316\n",
      "Darts thrown per second:  780105\n",
      "Method 2: parallel computing using MULTIPROCESSING.POOL\n",
      "Pi Approximation:  3.21518987342\n",
      "Execution time:  0.005093097686767578\n",
      "Number of darts:  316\n",
      "Darts thrown per second:  62044\n",
      "Method 3: parallel computing using DASK\n",
      "Pi Approximation:  3.16455696203\n",
      "Execution time:  0.015044927597045898\n",
      "Number of darts:  316\n",
      "Darts thrown per second:  21003\n",
      "Method 1: normal calculation without parallelism\n",
      "Pi Approximation:  3.08886389201\n",
      "Execution time:  0.0019919872283935547\n",
      "Number of darts:  1778\n",
      "Darts thrown per second:  892576\n",
      "Method 2: parallel computing using MULTIPROCESSING.POOL\n",
      "Pi Approximation:  3.06411698538\n",
      "Execution time:  0.0038919448852539062\n",
      "Number of darts:  1778\n",
      "Darts thrown per second:  456841\n",
      "Method 3: parallel computing using DASK\n",
      "Pi Approximation:  3.08211473566\n",
      "Execution time:  0.017472028732299805\n",
      "Number of darts:  1778\n",
      "Darts thrown per second:  101762\n",
      "Method 1: normal calculation without parallelism\n",
      "Pi Approximation:  3.1152\n",
      "Execution time:  0.012235164642333984\n",
      "Number of darts:  10000\n",
      "Darts thrown per second:  817316\n",
      "Method 2: parallel computing using MULTIPROCESSING.POOL\n",
      "Pi Approximation:  3.1448\n",
      "Execution time:  0.01922011375427246\n",
      "Number of darts:  10000\n",
      "Darts thrown per second:  520288\n",
      "Method 3: parallel computing using DASK\n",
      "Pi Approximation:  3.1396\n",
      "Execution time:  0.03302884101867676\n",
      "Number of darts:  10000\n",
      "Darts thrown per second:  302765\n",
      "Method 1: normal calculation without parallelism\n",
      "Pi Approximation:  3.14393427464\n",
      "Execution time:  0.06718802452087402\n",
      "Number of darts:  56234\n",
      "Darts thrown per second:  836964\n",
      "Method 2: parallel computing using MULTIPROCESSING.POOL\n",
      "Pi Approximation:  3.1277163282\n",
      "Execution time:  0.05450320243835449\n",
      "Number of darts:  56234\n",
      "Darts thrown per second:  1031755\n",
      "Method 3: parallel computing using DASK\n",
      "Pi Approximation:  3.1401643134\n",
      "Execution time:  0.05722212791442871\n",
      "Number of darts:  56234\n",
      "Darts thrown per second:  982731\n",
      "Method 1: normal calculation without parallelism\n",
      "Pi Approximation:  3.13975719973\n",
      "Execution time:  0.3759028911590576\n",
      "Number of darts:  316227\n",
      "Darts thrown per second:  841246\n",
      "Method 2: parallel computing using MULTIPROCESSING.POOL\n",
      "Pi Approximation:  3.14117390356\n",
      "Execution time:  0.2593061923980713\n",
      "Number of darts:  316227\n",
      "Darts thrown per second:  1219511\n",
      "Method 3: parallel computing using DASK\n",
      "Pi Approximation:  3.13858082959\n",
      "Execution time:  0.35219597816467285\n",
      "Number of darts:  316227\n",
      "Darts thrown per second:  897872\n",
      "Method 1: normal calculation without parallelism\n",
      "Pi Approximation:  3.14089521386\n",
      "Execution time:  2.50124192237854\n",
      "Number of darts:  1778279\n",
      "Darts thrown per second:  710958\n",
      "Method 2: parallel computing using MULTIPROCESSING.POOL\n",
      "Pi Approximation:  3.13984026129\n",
      "Execution time:  1.8489317893981934\n",
      "Number of darts:  1778279\n",
      "Darts thrown per second:  961787\n",
      "Method 3: parallel computing using DASK\n",
      "Pi Approximation:  3.1398132689\n",
      "Execution time:  2.1086080074310303\n",
      "Number of darts:  1778279\n",
      "Darts thrown per second:  843342\n",
      "Method 1: normal calculation without parallelism\n",
      "Pi Approximation:  3.1413184\n",
      "Execution time:  11.778633117675781\n",
      "Number of darts:  10000000\n",
      "Darts thrown per second:  848994\n",
      "Method 2: parallel computing using MULTIPROCESSING.POOL\n",
      "Pi Approximation:  3.1406844\n",
      "Execution time:  9.365900993347168\n",
      "Number of darts:  10000000\n",
      "Darts thrown per second:  1067702\n",
      "Method 3: parallel computing using DASK\n",
      "Pi Approximation:  3.1413372\n",
      "Execution time:  12.418009996414185\n",
      "Number of darts:  10000000\n",
      "Darts thrown per second:  805282\n"
     ]
    }
   ],
   "source": [
    "import numpy as np\n",
    "darts_num = np.logspace(1,7,9)\n",
    "darts_num = darts_num.astype(int)\n",
    "Simple = list()\n",
    "Multiprocessing= list()\n",
    "Dask = list() \n",
    "# try different darts number and see how scaling affets parallel\n",
    "for num in darts_num:\n",
    "    Simple.append(normal_simulation(num))\n",
    "    Multiprocessing.append(multiprocess(num))\n",
    "    Dask.append(dask_parallel(num))"
   ]
  },
  {
   "cell_type": "code",
   "execution_count": 18,
   "metadata": {
    "collapsed": false
   },
   "outputs": [],
   "source": [
    "Simple_time = [x[0] for x in Simple]\n",
    "Simple_rate = [x[1] for x in Simple]\n",
    "multiprocess_time = [x[0] for x in Multiprocessing]\n",
    "multiprocess_rate = [x[1] for x in Multiprocessing]\n",
    "Dask_time = [x[0] for x in Dask]\n",
    "Dask_rate = [x[1] for x in Dask]\n"
   ]
  },
  {
   "cell_type": "code",
   "execution_count": 19,
   "metadata": {
    "collapsed": false
   },
   "outputs": [
    {
     "data": {
      "text/plain": [
       "<matplotlib.legend.Legend at 0x11251eb70>"
      ]
     },
     "execution_count": 19,
     "metadata": {},
     "output_type": "execute_result"
    },
    {
     "data": {
      "image/png": "[encoded data removed]",
      "text/plain": [
       "<matplotlib.figure.Figure at 0x113e831d0>"
      ]
     },
     "metadata": {},
     "output_type": "display_data"
    }
   ],
   "source": [
    "import matplotlib.pyplot as plt\n",
    "%matplotlib inline\n",
    "\n",
    "fig = plt.figure()\n",
    "ax1 = fig.add_subplot(111)\n",
    "ax2 = ax1.twinx()\n",
    "plt.yscale('log')\n",
    "plt.xscale('log')\n",
    "ax1.set_yscale(\"log\") \n",
    "ax2.yaxis.tick_right() \n",
    "simple1 = ax1.plot(darts_num, Simple_time, color = 'red', \n",
    "         linestyle = '-', label = \"Simple\")\n",
    "simple2 = ax2.plot(darts_num, Simple_rate, color = 'red', \n",
    "         linestyle = '--', label = \"Simple\")\n",
    "multiprocess1 = ax1.plot(darts_num, multiprocess_time, color = 'blue', \n",
    "         linestyle = '-', label = \"Multiprocess\")\n",
    "multiprocess2 = ax2.plot(darts_num, multiprocess_rate, color = 'blue', \n",
    "         linestyle = '--', label = \"Multiprocess\")\n",
    "Dask1 = ax1.plot(darts_num, Dask_time, color = 'green', \n",
    "         linestyle = '-', label = \"Dask\")\n",
    "Dask2 = ax2.plot(darts_num, Dask_rate, color = 'green', \n",
    "         linestyle = '--', label = \"Dask\")\n",
    "\n",
    "ax1.minorticks_on()\n",
    "ax1.set_ylim(10**(-5), 10**2)\n",
    "ax1.set_ylabel('Execution Time (Seconds), solid time')\n",
    "ax1.set_xlabel('Thrown Darts')\n",
    "ax2.minorticks_on()\n",
    "ax2.set_ylim(10**2, 10**7)\n",
    "ax2.set_ylabel('Simulation rate (Darts/second), dashed time')\n",
    "ax1.legend(prop={'size':7}, loc = 0)"
   ]
  },
  {
   "cell_type": "code",
   "execution_count": null,
   "metadata": {
    "collapsed": true
   },
   "outputs": [],
   "source": []
  }
 ],
 "metadata": {
  "anaconda-cloud": {},
  "kernelspec": {
   "display_name": "Python [py3]",
   "language": "python",
   "name": "Python [py3]"
  },
  "language_info": {
   "codemirror_mode": {
    "name": "ipython",
    "version": 3
   },
   "file_extension": ".py",
   "mimetype": "text/x-python",
   "name": "python",
   "nbconvert_exporter": "python",
   "pygments_lexer": "ipython3",
   "version": "3.5.2"
  }
 },
 "nbformat": 4,
 "nbformat_minor": 0
}
