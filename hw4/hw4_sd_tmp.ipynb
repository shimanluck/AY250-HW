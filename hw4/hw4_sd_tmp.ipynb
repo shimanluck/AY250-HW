{
 "cells": [
  {
   "cell_type": "code",
   "execution_count": 20,
   "metadata": {
    "collapsed": true
   },
   "outputs": [],
   "source": [
    "# Shiman Ding, IEOR, 24104985\n",
    "# shiman@berkeley.edu\n",
    "# HW4: Parallelism\n",
    "# MacBook Pro with 2 GHz Intel Core i5"
   ]
  },
  {
   "cell_type": "code",
   "execution_count": 17,
   "metadata": {
    "collapsed": false
   },
   "outputs": [
    {
     "data": {
      "text/plain": [
       "'\\nPACKAGE INSTALLATION: \\ndask and dask.distributed:\\n\\nconda install dask distributed -c conda-forge\\n\\nprofiling:\\nbrew install graphviz  ## on a mac\\nsudo apt-get install graphviz ## on linux\\npip install snakeviz graphviz\\n\\njoblib:\\nconda install joblib\\nasync HTTP\\n\\npip install aiohttp\\nipyparallel:\\n\\nconda install ipyparallel\\nipcluster nbextension enable\\n\\n'"
      ]
     },
     "execution_count": 17,
     "metadata": {},
     "output_type": "execute_result"
    }
   ],
   "source": [
    "\"\"\"\n",
    "PACKAGE INSTALLATION: \n",
    "dask and dask.distributed:\n",
    "\n",
    "conda install dask distributed -c conda-forge\n",
    "\n",
    "profiling:\n",
    "brew install graphviz  ## on a mac\n",
    "sudo apt-get install graphviz ## on linux\n",
    "pip install snakeviz graphviz\n",
    "\n",
    "joblib:\n",
    "conda install joblib\n",
    "async HTTP\n",
    "\n",
    "pip install aiohttp\n",
    "ipyparallel:\n",
    "\n",
    "conda install ipyparallel\n",
    "ipcluster nbextension enable\n",
    "\n",
    "\"\"\""
   ]
  },
  {
   "cell_type": "markdown",
   "metadata": {
    "collapsed": true
   },
   "source": [
    "Q1. Use 3 methods to parallel computing and compare"
   ]
  },
  {
   "cell_type": "code",
   "execution_count": 1,
   "metadata": {
    "collapsed": true
   },
   "outputs": [],
   "source": [
    "from math import sqrt\n",
    "from random import uniform\n",
    "from time import time\n",
    "import numpy as np"
   ]
  },
  {
   "cell_type": "code",
   "execution_count": 19,
   "metadata": {
    "collapsed": false
   },
   "outputs": [],
   "source": [
    "# Monte Carlo Simulation to count the number of darts fall into a circle, then approximate PI\n",
    "# Method 1: no Parallelism\n",
    "def normal_simulation(number_of_darts):\n",
    "    number_in_circle = 0.0\n",
    "\n",
    "    start_time = time()\n",
    "    for n in range(number_of_darts):\n",
    "        x = uniform(0, 1)\n",
    "        y = uniform(0, 1)\n",
    "        if sqrt((x-0.5)**2 + (y-0.5)**2)<=0.5:\n",
    "            number_in_circle += 1\n",
    "\n",
    "    end_time = time()\n",
    "    execute_time = end_time - start_time\n",
    "    pi_approx1 = 4 * number_in_circle / number_of_darts\n",
    "\n",
    "    print(\"Method 1: normal calculation without parallelism\")\n",
    "    print('Pi Approximation: ', pi_approx1)\n",
    "    print('Execution time: ', execute_time)\n",
    "    print('Number of darts: ', number_of_darts)\n",
    "    print('Darts thrown per second: ', int(number_of_darts/execute_time))\n",
    "    return((execute_time, int(number_of_darts/execute_time)))"
   ]
  },
  {
   "cell_type": "code",
   "execution_count": 20,
   "metadata": {
    "collapsed": false
   },
   "outputs": [
    {
     "name": "stdout",
     "output_type": "stream",
     "text": [
      "Method 1: normal calculation without parallelism\n",
      "('Pi Approximation: ', 3.13606)\n",
      "('Execution time: ', 0.34288716316223145)\n",
      "('Number of darts: ', 200000)\n",
      "('Darts thrown per second: ', 583282)\n"
     ]
    },
    {
     "data": {
      "text/plain": [
       "(0.34288716316223145, 583282)"
      ]
     },
     "execution_count": 20,
     "metadata": {},
     "output_type": "execute_result"
    }
   ],
   "source": [
    "normal_simulation(200000)"
   ]
  },
  {
   "cell_type": "code",
   "execution_count": 21,
   "metadata": {
    "collapsed": true
   },
   "outputs": [],
   "source": [
    "# define function for parallelism\n",
    "def throw_dart(dummy):\n",
    "    return 1 if sqrt((uniform(0, 1)-0.5)**2 + (uniform(0, 1)-0.5)**2)<=0.5 else 0\n"
   ]
  },
  {
   "cell_type": "code",
   "execution_count": 22,
   "metadata": {
    "collapsed": false
   },
   "outputs": [
    {
     "data": {
      "text/plain": [
       "1"
      ]
     },
     "execution_count": 22,
     "metadata": {},
     "output_type": "execute_result"
    }
   ],
   "source": [
    "throw_dart(1)"
   ]
  },
  {
   "cell_type": "code",
   "execution_count": 23,
   "metadata": {
    "collapsed": false
   },
   "outputs": [],
   "source": [
    "# Method 2: multiprocessing to parallel computing\n",
    "\n",
    "from multiprocessing import Pool \n",
    "\n",
    "def multiprocess(number_of_darts):\n",
    "    pool = Pool(processes=12)\n",
    "    start_time = time()\n",
    "    g=pool.map_async(throw_dart, xrange(number_of_darts)).get()\n",
    "    pool.close()\n",
    "    pool.join()\n",
    "    end_time = time()\n",
    "    execute_time = end_time - start_time\n",
    "    pi_approx2 = 4 * sum(g) / number_of_darts\n",
    "    del pool\n",
    "\n",
    "    print(\"Method 2: parallel computing using MULTIPROCESSING.POOL\")\n",
    "    print('Pi Approximation: ', pi_approx2)\n",
    "    print('Execution time: ', execute_time)\n",
    "    print('Number of darts: ', number_of_darts)\n",
    "    print('Darts thrown per second: ', int(number_of_darts/execute_time))\n",
    "    return(execute_time, int(number_of_darts/execute_time))"
   ]
  },
  {
   "cell_type": "code",
   "execution_count": 24,
   "metadata": {
    "collapsed": false
   },
   "outputs": [
    {
     "name": "stdout",
     "output_type": "stream",
     "text": [
      "Method 2: parallel computing using MULTIPROCESSING.POOL\n",
      "('Pi Approximation: ', 3)\n",
      "('Execution time: ', 0.2578999996185303)\n",
      "('Number of darts: ', 200000)\n",
      "('Darts thrown per second: ', 775494)\n"
     ]
    },
    {
     "data": {
      "text/plain": [
       "(0.2578999996185303, 775494)"
      ]
     },
     "execution_count": 24,
     "metadata": {},
     "output_type": "execute_result"
    }
   ],
   "source": [
    "multiprocess(200000)"
   ]
  },
  {
   "cell_type": "code",
   "execution_count": 25,
   "metadata": {
    "collapsed": false
   },
   "outputs": [],
   "source": [
    "# Method 3: dask to parallel computing\n",
    "import numpy as np\n",
    "import dask.array as da\n",
    "\n",
    "\n",
    "def dask_parallel(number_of_darts):\n",
    "    start_time = time()\n",
    "    x = da.random.uniform(0, 1, size=number_of_darts, chunks=100)   # Cut into 1000 sized chunks\n",
    "    y = da.random.uniform(0, 1, size=number_of_darts, chunks=100)   \n",
    "    dart_in = (x-0.5)**2 + (y-0.5)**2 < 0.5**2\n",
    "    end_time = time()\n",
    "    execute_time = end_time - start_time\n",
    "    pi_approx3 = 4 * sum(dart_in.compute()) / number_of_darts\n",
    "\n",
    "    print(\"Method 3: parallel computing using DASK\")\n",
    "    print('Pi Approximation: ', pi_approx3)\n",
    "    print('Execution time: ', execute_time)\n",
    "    print('Number of darts: ', number_of_darts)\n",
    "    print('Darts thrown per second: ', int(number_of_darts/execute_time))\n",
    "    return(execute_time, int(number_of_darts/execute_time))"
   ]
  },
  {
   "cell_type": "code",
   "execution_count": 26,
   "metadata": {
    "collapsed": false
   },
   "outputs": [
    {
     "name": "stdout",
     "output_type": "stream",
     "text": [
      "Method 3: parallel computing using DASK\n",
      "('Pi Approximation: ', 3)\n",
      "('Execution time: ', 0.2674520015716553)\n",
      "('Number of darts: ', 200000)\n",
      "('Darts thrown per second: ', 747797)\n"
     ]
    },
    {
     "data": {
      "text/plain": [
       "(0.2674520015716553, 747797)"
      ]
     },
     "execution_count": 26,
     "metadata": {},
     "output_type": "execute_result"
    }
   ],
   "source": [
    "dask_parallel(200000)"
   ]
  },
  {
   "cell_type": "code",
   "execution_count": 27,
   "metadata": {
    "collapsed": false
   },
   "outputs": [
    {
     "data": {
      "text/plain": [
       "[1]"
      ]
     },
     "execution_count": 27,
     "metadata": {},
     "output_type": "execute_result"
    }
   ],
   "source": [
    "lista = list()\n",
    "lista.append(1)\n",
    "lista"
   ]
  },
  {
   "cell_type": "code",
   "execution_count": 31,
   "metadata": {
    "collapsed": false
   },
   "outputs": [
    {
     "name": "stdout",
     "output_type": "stream",
     "text": [
      "Method 1: normal calculation without parallelism\n",
      "('Pi Approximation: ', 3.2)\n",
      "('Execution time: ', 4.291534423828125e-05)\n",
      "('Number of darts: ', 10)\n",
      "('Darts thrown per second: ', 233016)\n",
      "Method 2: parallel computing using MULTIPROCESSING.POOL\n",
      "('Pi Approximation: ', 3)\n",
      "('Execution time: ', 0.15224504470825195)\n",
      "('Number of darts: ', 10)\n",
      "('Darts thrown per second: ', 65)\n",
      "Method 3: parallel computing using DASK\n",
      "('Pi Approximation: ', 2)\n",
      "('Execution time: ', 0.023983001708984375)\n",
      "('Number of darts: ', 10)\n",
      "('Darts thrown per second: ', 416)\n",
      "Method 1: normal calculation without parallelism\n",
      "('Pi Approximation: ', 3.4285714285714284)\n",
      "('Execution time: ', 0.0001590251922607422)\n",
      "('Number of darts: ', 56)\n",
      "('Darts thrown per second: ', 352145)\n",
      "Method 2: parallel computing using MULTIPROCESSING.POOL\n",
      "('Pi Approximation: ', 3)\n",
      "('Execution time: ', 0.16540098190307617)\n",
      "('Number of darts: ', 56)\n",
      "('Darts thrown per second: ', 338)\n",
      "Method 3: parallel computing using DASK\n",
      "('Pi Approximation: ', 3)\n",
      "('Execution time: ', 0.017426013946533203)\n",
      "('Number of darts: ', 56)\n",
      "('Darts thrown per second: ', 3213)\n",
      "Method 1: normal calculation without parallelism\n",
      "('Pi Approximation: ', 3.1012658227848102)\n",
      "('Execution time: ', 0.00037598609924316406)\n",
      "('Number of darts: ', 316)\n",
      "('Darts thrown per second: ', 840456)\n",
      "Method 2: parallel computing using MULTIPROCESSING.POOL\n",
      "('Pi Approximation: ', 3)\n",
      "('Execution time: ', 0.16011691093444824)\n",
      "('Number of darts: ', 316)\n",
      "('Darts thrown per second: ', 1973)\n",
      "Method 3: parallel computing using DASK\n",
      "('Pi Approximation: ', 3)\n",
      "('Execution time: ', 0.01856088638305664)\n",
      "('Number of darts: ', 316)\n",
      "('Darts thrown per second: ', 17025)\n",
      "Method 1: normal calculation without parallelism\n",
      "('Pi Approximation: ', 3.050618672665917)\n",
      "('Execution time: ', 0.002804994583129883)\n",
      "('Number of darts: ', 1778)\n",
      "('Darts thrown per second: ', 633869)\n",
      "Method 2: parallel computing using MULTIPROCESSING.POOL\n",
      "('Pi Approximation: ', 3)\n",
      "('Execution time: ', 0.16853117942810059)\n",
      "('Number of darts: ', 1778)\n",
      "('Darts thrown per second: ', 10549)\n",
      "Method 3: parallel computing using DASK\n",
      "('Pi Approximation: ', 3)\n",
      "('Execution time: ', 0.01754903793334961)\n",
      "('Number of darts: ', 1778)\n",
      "('Darts thrown per second: ', 101316)\n",
      "Method 1: normal calculation without parallelism\n",
      "('Pi Approximation: ', 3.1356)\n",
      "('Execution time: ', 0.019069910049438477)\n",
      "('Number of darts: ', 10000)\n",
      "('Darts thrown per second: ', 524386)\n",
      "Method 2: parallel computing using MULTIPROCESSING.POOL\n",
      "('Pi Approximation: ', 3)\n",
      "('Execution time: ', 0.17249298095703125)\n",
      "('Number of darts: ', 10000)\n",
      "('Darts thrown per second: ', 57973)\n",
      "Method 3: parallel computing using DASK\n",
      "('Pi Approximation: ', 3)\n",
      "('Execution time: ', 0.0255739688873291)\n",
      "('Number of darts: ', 10000)\n",
      "('Darts thrown per second: ', 391022)\n",
      "Method 1: normal calculation without parallelism\n",
      "('Pi Approximation: ', 3.1262937013194865)\n",
      "('Execution time: ', 0.0776669979095459)\n",
      "('Number of darts: ', 56234)\n",
      "('Darts thrown per second: ', 724039)\n",
      "Method 2: parallel computing using MULTIPROCESSING.POOL\n",
      "('Pi Approximation: ', 3)\n",
      "('Execution time: ', 0.1581580638885498)\n",
      "('Number of darts: ', 56234)\n",
      "('Darts thrown per second: ', 355555)\n",
      "Method 3: parallel computing using DASK\n",
      "('Pi Approximation: ', 3)\n",
      "('Execution time: ', 0.0695958137512207)\n",
      "('Number of darts: ', 56234)\n",
      "('Darts thrown per second: ', 808008)\n",
      "Method 1: normal calculation without parallelism\n",
      "('Pi Approximation: ', 3.1406426396228024)\n",
      "('Execution time: ', 0.4362058639526367)\n",
      "('Number of darts: ', 316227)\n",
      "('Darts thrown per second: ', 724948)\n",
      "Method 2: parallel computing using MULTIPROCESSING.POOL\n",
      "('Pi Approximation: ', 3)\n",
      "('Execution time: ', 0.3733818531036377)\n",
      "('Number of darts: ', 316227)\n",
      "('Darts thrown per second: ', 846926)\n",
      "Method 3: parallel computing using DASK\n",
      "('Pi Approximation: ', 3)\n",
      "('Execution time: ', 0.28418898582458496)\n",
      "('Number of darts: ', 316227)\n",
      "('Darts thrown per second: ', 1112734)\n",
      "Method 1: normal calculation without parallelism\n",
      "('Pi Approximation: ', 3.1407580025406587)\n",
      "('Execution time: ', 2.3975799083709717)\n",
      "('Number of darts: ', 1778279)\n",
      "('Darts thrown per second: ', 741697)\n",
      "Method 2: parallel computing using MULTIPROCESSING.POOL\n",
      "('Pi Approximation: ', 3)\n",
      "('Execution time: ', 1.8362572193145752)\n",
      "('Number of darts: ', 1778279)\n",
      "('Darts thrown per second: ', 968425)\n",
      "Method 3: parallel computing using DASK\n",
      "('Pi Approximation: ', 3)\n",
      "('Execution time: ', 2.2866439819335938)\n",
      "('Number of darts: ', 1778279)\n",
      "('Darts thrown per second: ', 777680)\n",
      "Method 1: normal calculation without parallelism\n",
      "('Pi Approximation: ', 3.1416792)\n",
      "('Execution time: ', 12.399708032608032)\n",
      "('Number of darts: ', 10000000)\n",
      "('Darts thrown per second: ', 806470)\n",
      "Method 2: parallel computing using MULTIPROCESSING.POOL\n",
      "('Pi Approximation: ', 3)\n",
      "('Execution time: ', 9.129432916641235)\n",
      "('Number of darts: ', 10000000)\n",
      "('Darts thrown per second: ', 1095358)\n",
      "Method 3: parallel computing using DASK\n",
      "('Pi Approximation: ', 3)\n",
      "('Execution time: ', 15.989276885986328)\n",
      "('Number of darts: ', 10000000)\n",
      "('Darts thrown per second: ', 625419)\n"
     ]
    }
   ],
   "source": [
    "import numpy as np\n",
    "darts_num = np.logspace(1,7,9)\n",
    "darts_num = darts_num.astype(int)\n",
    "Simple = list()\n",
    "Multiprocessing= list()\n",
    "Dask = list() \n",
    "# try different darts number and see how scaling affets parallel\n",
    "for num in darts_num:\n",
    "    Simple.append(normal_simulation(num))\n",
    "    Multiprocessing.append(multiprocess(num))\n",
    "    Dask.append(dask_parallel(num))"
   ]
  },
  {
   "cell_type": "code",
   "execution_count": 32,
   "metadata": {
    "collapsed": false
   },
   "outputs": [],
   "source": [
    "Simple_time = [x[0] for x in Simple]\n",
    "Simple_rate = [x[1] for x in Simple]\n",
    "multiprocess_time = [x[0] for x in Multiprocessing]\n",
    "multiprocess_rate = [x[1] for x in Multiprocessing]\n",
    "Dask_time = [x[0] for x in Dask]\n",
    "Dask_rate = [x[1] for x in Dask]\n"
   ]
  },
  {
   "cell_type": "code",
   "execution_count": 34,
   "metadata": {
    "collapsed": false
   },
   "outputs": [
    {
     "data": {
      "text/plain": [
       "<matplotlib.legend.Legend at 0x120a40f50>"
      ]
     },
     "execution_count": 34,
     "metadata": {},
     "output_type": "execute_result"
    },
    {
     "data": {
      "image/png": "[encoded data removed]",
      "text/plain": [
       "<matplotlib.figure.Figure at 0x12f434590>"
      ]
     },
     "metadata": {},
     "output_type": "display_data"
    }
   ],
   "source": [
    "import matplotlib.pyplot as plt\n",
    "%matplotlib inline\n",
    "\n",
    "fig = plt.figure()\n",
    "ax1 = fig.add_subplot(111)\n",
    "ax2 = ax1.twinx()\n",
    "plt.yscale('log')\n",
    "plt.xscale('log')\n",
    "ax1.set_yscale(\"log\") \n",
    "ax2.yaxis.tick_right() \n",
    "simple1 = ax1.plot(darts_num, Simple_time, color = 'red', \n",
    "         linestyle = '-', label = \"Simple\")\n",
    "simple2 = ax2.plot(darts_num, Simple_rate, color = 'red', \n",
    "         linestyle = '--', label = \"Simple\")\n",
    "multiprocess1 = ax1.plot(darts_num, multiprocess_time, color = 'blue', \n",
    "         linestyle = '-', label = \"Multiprocess\")\n",
    "multiprocess2 = ax2.plot(darts_num, multiprocess_rate, color = 'blue', \n",
    "         linestyle = '--', label = \"Multiprocess\")\n",
    "Dask1 = ax1.plot(darts_num, Dask_time, color = 'green', \n",
    "         linestyle = '-', label = \"Dask\")\n",
    "Dask2 = ax2.plot(darts_num, Dask_rate, color = 'green', \n",
    "         linestyle = '--', label = \"Dask\")\n",
    "\n",
    "ax1.minorticks_on()\n",
    "ax1.set_ylim(10**(-5), 10**2)\n",
    "ax1.set_ylabel('Execution Time (Seconds), solid time')\n",
    "ax1.set_xlabel('Thrown Darts')\n",
    "ax2.minorticks_on()\n",
    "ax2.set_ylim(10**2, 10**7)\n",
    "ax2.set_ylabel('Simulation rate (Darts/second), dashed time')\n",
    "ax1.legend(prop={'size':7}, loc = 0)"
   ]
  },
  {
   "cell_type": "code",
   "execution_count": null,
   "metadata": {
    "collapsed": true
   },
   "outputs": [],
   "source": []
  }
 ],
 "metadata": {
  "anaconda-cloud": {},
  "kernelspec": {
   "display_name": "Python [py3]",
   "language": "python",
   "name": "Python [py3]"
  },
  "language_info": {
   "codemirror_mode": {
    "name": "ipython",
    "version": 3
   },
   "file_extension": ".py",
   "mimetype": "text/x-python",
   "name": "python",
   "nbconvert_exporter": "python",
   "pygments_lexer": "ipython3",
   "version": "3.5.2"
  }
 },
 "nbformat": 4,
 "nbformat_minor": 0
}
